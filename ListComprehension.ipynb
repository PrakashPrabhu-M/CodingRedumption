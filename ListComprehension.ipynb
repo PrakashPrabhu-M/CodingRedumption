{
 "cells": [
  {
   "cell_type": "markdown",
   "id": "b98ae973-e3e9-43af-ab66-bf2bc5a1d113",
   "metadata": {},
   "source": [
    "https://www.hackerrank.com/challenges/list-comprehensions/problem"
   ]
  },
  {
   "cell_type": "code",
   "execution_count": 31,
   "id": "c99afb57-7057-48b0-98a1-959a6ed01bd2",
   "metadata": {},
   "outputs": [
    {
     "name": "stdin",
     "output_type": "stream",
     "text": [
      " 1 1 1 2\n"
     ]
    }
   ],
   "source": [
    "x,y,z,n=map(int,input().split())"
   ]
  },
  {
   "cell_type": "code",
   "execution_count": 34,
   "id": "1af769db-63e6-466f-a5f8-408cc39824ed",
   "metadata": {},
   "outputs": [],
   "source": [
    "l=[]"
   ]
  },
  {
   "cell_type": "code",
   "execution_count": 35,
   "id": "1c5f0bc9-284c-4836-bd85-d2fdda72eef4",
   "metadata": {},
   "outputs": [],
   "source": [
    "for i in range(x+1):\n",
    "    for j in range(y+1):\n",
    "        for k in range(z+1):\n",
    "            if i+j+k!=n:\n",
    "                l.append([i,j,k])\n"
   ]
  },
  {
   "cell_type": "code",
   "execution_count": 36,
   "id": "5f69c919-8663-42a9-aeee-660c80c20ad4",
   "metadata": {},
   "outputs": [
    {
     "name": "stdout",
     "output_type": "stream",
     "text": [
      "[[0, 0, 0], [0, 0, 1], [0, 1, 0], [1, 0, 0], [1, 1, 1]]\n"
     ]
    }
   ],
   "source": [
    "print(l)"
   ]
  }
 ],
 "metadata": {
  "kernelspec": {
   "display_name": "Python 3",
   "language": "python",
   "name": "python3"
  },
  "language_info": {
   "codemirror_mode": {
    "name": "ipython",
    "version": 3
   },
   "file_extension": ".py",
   "mimetype": "text/x-python",
   "name": "python",
   "nbconvert_exporter": "python",
   "pygments_lexer": "ipython3",
   "version": "3.9.5"
  }
 },
 "nbformat": 4,
 "nbformat_minor": 5
}
